{
  "nbformat": 4,
  "nbformat_minor": 0,
  "metadata": {
    "colab": {
      "name": "CSE18231.ipynb",
      "provenance": [],
      "collapsed_sections": [],
      "authorship_tag": "ABX9TyOmImbcDmVWvKV7HyicIJGZ",
      "include_colab_link": true
    },
    "kernelspec": {
      "name": "python3",
      "display_name": "Python 3"
    }
  },
  "cells": [
    {
      "cell_type": "markdown",
      "metadata": {
        "id": "view-in-github",
        "colab_type": "text"
      },
      "source": [
        "<a href=\"https://colab.research.google.com/github/karthicsalem/ipynb_trial/blob/master/CSE18231-POMLlab3.ipynb\" target=\"_parent\"><img src=\"https://colab.research.google.com/assets/colab-badge.svg\" alt=\"Open In Colab\"/></a>"
      ]
    },
    {
      "cell_type": "markdown",
      "metadata": {
        "id": "jUDIHmYFnmEd"
      },
      "source": [
        "2.Import necessary packages "
      ]
    },
    {
      "cell_type": "code",
      "metadata": {
        "colab": {
          "base_uri": "https://localhost:8080/"
        },
        "id": "w4U89UfYAFOz",
        "outputId": "e59e506d-eb86-4b73-a2cf-8b07087c170c"
      },
      "source": [
        "import pandas as pd\r\n",
        "import numpy as np\r\n",
        "from scipy.stats import mode\r\n",
        "from sklearn.preprocessing import MinMaxScaler\r\n",
        "from google.colab import drive\r\n",
        "drive.mount('/content/drive')"
      ],
      "execution_count": 1,
      "outputs": [
        {
          "output_type": "stream",
          "text": [
            "Drive already mounted at /content/drive; to attempt to forcibly remount, call drive.mount(\"/content/drive\", force_remount=True).\n"
          ],
          "name": "stdout"
        }
      ]
    },
    {
      "cell_type": "markdown",
      "metadata": {
        "id": "kJ0HMuNunuB8"
      },
      "source": [
        "*   1.Download practice_data.csv\r\n",
        "*   3.Import dataset\r\n",
        "\r\n",
        "\r\n",
        "\r\n"
      ]
    },
    {
      "cell_type": "code",
      "metadata": {
        "id": "L_Jej6AqBCf9"
      },
      "source": [
        "df=pd.read_csv('/content/drive/My Drive/practice_data.csv')"
      ],
      "execution_count": 2,
      "outputs": []
    },
    {
      "cell_type": "markdown",
      "metadata": {
        "id": "uoiOqQR0n_vh"
      },
      "source": [
        "4.How many columns in the dataset?"
      ]
    },
    {
      "cell_type": "code",
      "metadata": {
        "colab": {
          "base_uri": "https://localhost:8080/"
        },
        "id": "ipAnjEvVBRHE",
        "outputId": "eccdd917-0183-408c-91a0-fa125059b370"
      },
      "source": [
        "columns=df.shape[1]\r\n",
        "print(\"No of Columns:\",columns)"
      ],
      "execution_count": 3,
      "outputs": [
        {
          "output_type": "stream",
          "text": [
            "No of Columns: 5\n"
          ],
          "name": "stdout"
        }
      ]
    },
    {
      "cell_type": "markdown",
      "metadata": {
        "id": "8EfkSZQpoY8b"
      },
      "source": [
        "5.Identify the categorical variabales"
      ]
    },
    {
      "cell_type": "code",
      "metadata": {
        "colab": {
          "base_uri": "https://localhost:8080/",
          "height": 343
        },
        "id": "_Q_5hrDpDoGK",
        "outputId": "c4ddeca9-b2b5-4c3f-95bb-f8c4b790f26f"
      },
      "source": [
        "df.head(10)"
      ],
      "execution_count": 4,
      "outputs": [
        {
          "output_type": "execute_result",
          "data": {
            "text/html": [
              "<div>\n",
              "<style scoped>\n",
              "    .dataframe tbody tr th:only-of-type {\n",
              "        vertical-align: middle;\n",
              "    }\n",
              "\n",
              "    .dataframe tbody tr th {\n",
              "        vertical-align: top;\n",
              "    }\n",
              "\n",
              "    .dataframe thead th {\n",
              "        text-align: right;\n",
              "    }\n",
              "</style>\n",
              "<table border=\"1\" class=\"dataframe\">\n",
              "  <thead>\n",
              "    <tr style=\"text-align: right;\">\n",
              "      <th></th>\n",
              "      <th>Cust_id</th>\n",
              "      <th>State</th>\n",
              "      <th>Age</th>\n",
              "      <th>Salary</th>\n",
              "      <th>Response</th>\n",
              "    </tr>\n",
              "  </thead>\n",
              "  <tbody>\n",
              "    <tr>\n",
              "      <th>0</th>\n",
              "      <td>1</td>\n",
              "      <td>TN</td>\n",
              "      <td>18.0</td>\n",
              "      <td>14603.0</td>\n",
              "      <td>Yes</td>\n",
              "    </tr>\n",
              "    <tr>\n",
              "      <th>1</th>\n",
              "      <td>2</td>\n",
              "      <td>KL</td>\n",
              "      <td>27.0</td>\n",
              "      <td>40727.0</td>\n",
              "      <td>No</td>\n",
              "    </tr>\n",
              "    <tr>\n",
              "      <th>2</th>\n",
              "      <td>3</td>\n",
              "      <td>KA</td>\n",
              "      <td>27.0</td>\n",
              "      <td>38029.0</td>\n",
              "      <td>Yes</td>\n",
              "    </tr>\n",
              "    <tr>\n",
              "      <th>3</th>\n",
              "      <td>4</td>\n",
              "      <td>AP</td>\n",
              "      <td>19.0</td>\n",
              "      <td>35793.0</td>\n",
              "      <td>Yes</td>\n",
              "    </tr>\n",
              "    <tr>\n",
              "      <th>4</th>\n",
              "      <td>5</td>\n",
              "      <td>AP</td>\n",
              "      <td>27.0</td>\n",
              "      <td>NaN</td>\n",
              "      <td>Yes</td>\n",
              "    </tr>\n",
              "    <tr>\n",
              "      <th>5</th>\n",
              "      <td>6</td>\n",
              "      <td>AP</td>\n",
              "      <td>21.0</td>\n",
              "      <td>37941.0</td>\n",
              "      <td>Yes</td>\n",
              "    </tr>\n",
              "    <tr>\n",
              "      <th>6</th>\n",
              "      <td>7</td>\n",
              "      <td>KL</td>\n",
              "      <td>22.0</td>\n",
              "      <td>28012.0</td>\n",
              "      <td>No</td>\n",
              "    </tr>\n",
              "    <tr>\n",
              "      <th>7</th>\n",
              "      <td>8</td>\n",
              "      <td>KL</td>\n",
              "      <td>20.0</td>\n",
              "      <td>10608.0</td>\n",
              "      <td>Yes</td>\n",
              "    </tr>\n",
              "    <tr>\n",
              "      <th>8</th>\n",
              "      <td>9</td>\n",
              "      <td>TN</td>\n",
              "      <td>29.0</td>\n",
              "      <td>41566.0</td>\n",
              "      <td>No</td>\n",
              "    </tr>\n",
              "    <tr>\n",
              "      <th>9</th>\n",
              "      <td>10</td>\n",
              "      <td>TN</td>\n",
              "      <td>22.0</td>\n",
              "      <td>27060.0</td>\n",
              "      <td>Yes</td>\n",
              "    </tr>\n",
              "  </tbody>\n",
              "</table>\n",
              "</div>"
            ],
            "text/plain": [
              "   Cust_id State   Age   Salary Response\n",
              "0        1    TN  18.0  14603.0      Yes\n",
              "1        2    KL  27.0  40727.0       No\n",
              "2        3    KA  27.0  38029.0      Yes\n",
              "3        4    AP  19.0  35793.0      Yes\n",
              "4        5    AP  27.0      NaN      Yes\n",
              "5        6    AP  21.0  37941.0      Yes\n",
              "6        7    KL  22.0  28012.0       No\n",
              "7        8    KL  20.0  10608.0      Yes\n",
              "8        9    TN  29.0  41566.0       No\n",
              "9       10    TN  22.0  27060.0      Yes"
            ]
          },
          "metadata": {
            "tags": []
          },
          "execution_count": 4
        }
      ]
    },
    {
      "cell_type": "markdown",
      "metadata": {
        "id": "kdfXOolYEQvi"
      },
      "source": [
        "State is a categorical value"
      ]
    },
    {
      "cell_type": "markdown",
      "metadata": {
        "id": "BZsoaek0ocF4"
      },
      "source": [
        "6.How many columns have missing values?"
      ]
    },
    {
      "cell_type": "code",
      "metadata": {
        "colab": {
          "base_uri": "https://localhost:8080/"
        },
        "id": "xjf0ypSiEgas",
        "outputId": "72c07919-7a29-468a-e63c-c34a81e36a8b"
      },
      "source": [
        "li=df.isnull().sum()>0\r\n",
        "print(li.sum(),\"Columns with NAN values\")"
      ],
      "execution_count": 5,
      "outputs": [
        {
          "output_type": "stream",
          "text": [
            "4 Columns with NAN values\n"
          ],
          "name": "stdout"
        }
      ]
    },
    {
      "cell_type": "markdown",
      "metadata": {
        "id": "0L9UXK3yogVV"
      },
      "source": [
        "7.Replace missing values of categorical variables with mode"
      ]
    },
    {
      "cell_type": "code",
      "metadata": {
        "colab": {
          "base_uri": "https://localhost:8080/"
        },
        "id": "j4VCfViJFLoi",
        "outputId": "197d6fbf-99fb-45c6-d353-423133096890"
      },
      "source": [
        "df['State'] = df['State'].fillna(df['State'].mode()[0])\r\n",
        "print(\"No of Null values after replacing:\",df['State'].isnull().sum())"
      ],
      "execution_count": 6,
      "outputs": [
        {
          "output_type": "stream",
          "text": [
            "No of Null values after replacing: 0\n"
          ],
          "name": "stdout"
        }
      ]
    },
    {
      "cell_type": "markdown",
      "metadata": {
        "id": "tdDyVwDZpieK"
      },
      "source": [
        "8.Replace missing values of age column with median"
      ]
    },
    {
      "cell_type": "code",
      "metadata": {
        "colab": {
          "base_uri": "https://localhost:8080/"
        },
        "id": "hX-GJDcSpkM9",
        "outputId": "e4a7adc1-34f1-49ad-a019-9d38c635f7cf"
      },
      "source": [
        "df['Age'].fillna(df['Age'].median(), inplace=True)\r\n",
        "print(\"No of Null values after replacing:\",df['Age'].isnull().sum())"
      ],
      "execution_count": 7,
      "outputs": [
        {
          "output_type": "stream",
          "text": [
            "No of Null values after replacing: 0\n"
          ],
          "name": "stdout"
        }
      ]
    },
    {
      "cell_type": "markdown",
      "metadata": {
        "id": "AsrulzU2pkxf"
      },
      "source": [
        "9.Replace missing values of salary with mean salary"
      ]
    },
    {
      "cell_type": "code",
      "metadata": {
        "colab": {
          "base_uri": "https://localhost:8080/"
        },
        "id": "RieanvL-pmms",
        "outputId": "8abfe0cd-cf53-457e-a10d-a9c3ff051f70"
      },
      "source": [
        "df['Salary'].fillna(df['Salary'].mean(), inplace=True)\r\n",
        "print(\"No of Null values after replacing:\",df['Salary'].isnull().sum())"
      ],
      "execution_count": 8,
      "outputs": [
        {
          "output_type": "stream",
          "text": [
            "No of Null values after replacing: 0\n"
          ],
          "name": "stdout"
        }
      ]
    },
    {
      "cell_type": "markdown",
      "metadata": {
        "id": "b7rr9FjppnTA"
      },
      "source": [
        "10.In case of any NaN value in response column, delete the entire instance"
      ]
    },
    {
      "cell_type": "code",
      "metadata": {
        "colab": {
          "base_uri": "https://localhost:8080/"
        },
        "id": "WiJoI0COppBk",
        "outputId": "b3c05d28-d333-40c4-da00-99d84f421b74"
      },
      "source": [
        "print('Rows before Null Removal:',df.shape[0])\r\n",
        "df = df[df['Response'].isnull()==False]\r\n",
        "print('Rows After Null Removal:',df.shape[0])"
      ],
      "execution_count": 9,
      "outputs": [
        {
          "output_type": "stream",
          "text": [
            "Rows before Null Removal: 49\n",
            "Rows After Null Removal: 46\n"
          ],
          "name": "stdout"
        }
      ]
    },
    {
      "cell_type": "markdown",
      "metadata": {
        "id": "Bz810jWgppUu"
      },
      "source": [
        "11.Find the range of age"
      ]
    },
    {
      "cell_type": "code",
      "metadata": {
        "colab": {
          "base_uri": "https://localhost:8080/"
        },
        "id": "5Q0k4HbRpq5l",
        "outputId": "ab7152ac-935e-4da2-ac29-74ec756b489e"
      },
      "source": [
        "print('Range of Age:',df['Age'].max() - df['Age'].min())"
      ],
      "execution_count": 10,
      "outputs": [
        {
          "output_type": "stream",
          "text": [
            "Range of Age: 13.0\n"
          ],
          "name": "stdout"
        }
      ]
    },
    {
      "cell_type": "markdown",
      "metadata": {
        "id": "wN3ErZpfprQv"
      },
      "source": [
        "12.Apply min-max scaling on salary to transform it into (0,1)"
      ]
    },
    {
      "cell_type": "code",
      "metadata": {
        "colab": {
          "base_uri": "https://localhost:8080/",
          "height": 343
        },
        "id": "k5ud71JbptV2",
        "outputId": "e9584280-fe6f-4fb4-a5aa-8191396b05f3"
      },
      "source": [
        "scaler = MinMaxScaler()\r\n",
        "X=np.array(df['Salary']).reshape(46,1)\r\n",
        "scaler.fit(X)\r\n",
        "df['Salary'] = scaler.transform(X)\r\n",
        "df.head(10)"
      ],
      "execution_count": 11,
      "outputs": [
        {
          "output_type": "execute_result",
          "data": {
            "text/html": [
              "<div>\n",
              "<style scoped>\n",
              "    .dataframe tbody tr th:only-of-type {\n",
              "        vertical-align: middle;\n",
              "    }\n",
              "\n",
              "    .dataframe tbody tr th {\n",
              "        vertical-align: top;\n",
              "    }\n",
              "\n",
              "    .dataframe thead th {\n",
              "        text-align: right;\n",
              "    }\n",
              "</style>\n",
              "<table border=\"1\" class=\"dataframe\">\n",
              "  <thead>\n",
              "    <tr style=\"text-align: right;\">\n",
              "      <th></th>\n",
              "      <th>Cust_id</th>\n",
              "      <th>State</th>\n",
              "      <th>Age</th>\n",
              "      <th>Salary</th>\n",
              "      <th>Response</th>\n",
              "    </tr>\n",
              "  </thead>\n",
              "  <tbody>\n",
              "    <tr>\n",
              "      <th>0</th>\n",
              "      <td>1</td>\n",
              "      <td>TN</td>\n",
              "      <td>18.0</td>\n",
              "      <td>0.106151</td>\n",
              "      <td>Yes</td>\n",
              "    </tr>\n",
              "    <tr>\n",
              "      <th>1</th>\n",
              "      <td>2</td>\n",
              "      <td>KL</td>\n",
              "      <td>27.0</td>\n",
              "      <td>0.800292</td>\n",
              "      <td>No</td>\n",
              "    </tr>\n",
              "    <tr>\n",
              "      <th>2</th>\n",
              "      <td>3</td>\n",
              "      <td>KA</td>\n",
              "      <td>27.0</td>\n",
              "      <td>0.728604</td>\n",
              "      <td>Yes</td>\n",
              "    </tr>\n",
              "    <tr>\n",
              "      <th>3</th>\n",
              "      <td>4</td>\n",
              "      <td>AP</td>\n",
              "      <td>19.0</td>\n",
              "      <td>0.669191</td>\n",
              "      <td>Yes</td>\n",
              "    </tr>\n",
              "    <tr>\n",
              "      <th>4</th>\n",
              "      <td>5</td>\n",
              "      <td>AP</td>\n",
              "      <td>27.0</td>\n",
              "      <td>0.465899</td>\n",
              "      <td>Yes</td>\n",
              "    </tr>\n",
              "    <tr>\n",
              "      <th>5</th>\n",
              "      <td>6</td>\n",
              "      <td>AP</td>\n",
              "      <td>21.0</td>\n",
              "      <td>0.726265</td>\n",
              "      <td>Yes</td>\n",
              "    </tr>\n",
              "    <tr>\n",
              "      <th>6</th>\n",
              "      <td>7</td>\n",
              "      <td>KL</td>\n",
              "      <td>22.0</td>\n",
              "      <td>0.462442</td>\n",
              "      <td>No</td>\n",
              "    </tr>\n",
              "    <tr>\n",
              "      <th>7</th>\n",
              "      <td>8</td>\n",
              "      <td>KL</td>\n",
              "      <td>20.0</td>\n",
              "      <td>0.000000</td>\n",
              "      <td>Yes</td>\n",
              "    </tr>\n",
              "    <tr>\n",
              "      <th>8</th>\n",
              "      <td>9</td>\n",
              "      <td>TN</td>\n",
              "      <td>29.0</td>\n",
              "      <td>0.822585</td>\n",
              "      <td>No</td>\n",
              "    </tr>\n",
              "    <tr>\n",
              "      <th>9</th>\n",
              "      <td>10</td>\n",
              "      <td>TN</td>\n",
              "      <td>22.0</td>\n",
              "      <td>0.437146</td>\n",
              "      <td>Yes</td>\n",
              "    </tr>\n",
              "  </tbody>\n",
              "</table>\n",
              "</div>"
            ],
            "text/plain": [
              "   Cust_id State   Age    Salary Response\n",
              "0        1    TN  18.0  0.106151      Yes\n",
              "1        2    KL  27.0  0.800292       No\n",
              "2        3    KA  27.0  0.728604      Yes\n",
              "3        4    AP  19.0  0.669191      Yes\n",
              "4        5    AP  27.0  0.465899      Yes\n",
              "5        6    AP  21.0  0.726265      Yes\n",
              "6        7    KL  22.0  0.462442       No\n",
              "7        8    KL  20.0  0.000000      Yes\n",
              "8        9    TN  29.0  0.822585       No\n",
              "9       10    TN  22.0  0.437146      Yes"
            ]
          },
          "metadata": {
            "tags": []
          },
          "execution_count": 11
        }
      ]
    }
  ]
}