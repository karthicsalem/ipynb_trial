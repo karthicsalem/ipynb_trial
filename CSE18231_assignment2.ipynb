{
  "nbformat": 4,
  "nbformat_minor": 0,
  "metadata": {
    "colab": {
      "name": "CSE18231_assignment2.ipynb",
      "provenance": [],
      "collapsed_sections": []
    },
    "kernelspec": {
      "name": "python3",
      "display_name": "Python 3"
    }
  },
  "cells": [
    {
      "cell_type": "code",
      "metadata": {
        "id": "zIQm-JiNvAa1",
        "colab_type": "code",
        "colab": {
          "base_uri": "https://localhost:8080/",
          "height": 34
        },
        "outputId": "37d6094b-2763-4950-f8ea-d9409d695ef7"
      },
      "source": [
        "from google.colab import drive\n",
        "drive.mount('/content/drive')\n",
        "import pandas as pd \n",
        "import numpy as np\n",
        "import seaborn as sns\n",
        "from matplotlib import pyplot as plt\n",
        "%matplotlib inline "
      ],
      "execution_count": 49,
      "outputs": [
        {
          "output_type": "stream",
          "text": [
            "Drive already mounted at /content/drive; to attempt to forcibly remount, call drive.mount(\"/content/drive\", force_remount=True).\n"
          ],
          "name": "stdout"
        }
      ]
    },
    {
      "cell_type": "markdown",
      "metadata": {
        "id": "jEsArpILHNEA",
        "colab_type": "text"
      },
      "source": [
        "# 1,2"
      ]
    },
    {
      "cell_type": "code",
      "metadata": {
        "id": "TDftuCP1veOO",
        "colab_type": "code",
        "colab": {
          "base_uri": "https://localhost:8080/",
          "height": 195
        },
        "outputId": "a7a802ea-2f97-4da3-fc62-e05814dedbf2"
      },
      "source": [
        "emp=pd.read_csv('/content/drive/My Drive/data.csv',usecols=[0,1,3],na_values=':')\n",
        "emp.head(5)"
      ],
      "execution_count": 50,
      "outputs": [
        {
          "output_type": "execute_result",
          "data": {
            "text/html": [
              "<div>\n",
              "<style scoped>\n",
              "    .dataframe tbody tr th:only-of-type {\n",
              "        vertical-align: middle;\n",
              "    }\n",
              "\n",
              "    .dataframe tbody tr th {\n",
              "        vertical-align: top;\n",
              "    }\n",
              "\n",
              "    .dataframe thead th {\n",
              "        text-align: right;\n",
              "    }\n",
              "</style>\n",
              "<table border=\"1\" class=\"dataframe\">\n",
              "  <thead>\n",
              "    <tr style=\"text-align: right;\">\n",
              "      <th></th>\n",
              "      <th>TIME</th>\n",
              "      <th>GEO</th>\n",
              "      <th>Value</th>\n",
              "    </tr>\n",
              "  </thead>\n",
              "  <tbody>\n",
              "    <tr>\n",
              "      <th>0</th>\n",
              "      <td>2000</td>\n",
              "      <td>European Union (28 countries)</td>\n",
              "      <td>NaN</td>\n",
              "    </tr>\n",
              "    <tr>\n",
              "      <th>1</th>\n",
              "      <td>2001</td>\n",
              "      <td>European Union (28 countries)</td>\n",
              "      <td>NaN</td>\n",
              "    </tr>\n",
              "    <tr>\n",
              "      <th>2</th>\n",
              "      <td>2002</td>\n",
              "      <td>European Union (28 countries)</td>\n",
              "      <td>5.00</td>\n",
              "    </tr>\n",
              "    <tr>\n",
              "      <th>3</th>\n",
              "      <td>2003</td>\n",
              "      <td>European Union (28 countries)</td>\n",
              "      <td>5.03</td>\n",
              "    </tr>\n",
              "    <tr>\n",
              "      <th>4</th>\n",
              "      <td>2004</td>\n",
              "      <td>European Union (28 countries)</td>\n",
              "      <td>4.95</td>\n",
              "    </tr>\n",
              "  </tbody>\n",
              "</table>\n",
              "</div>"
            ],
            "text/plain": [
              "   TIME                            GEO  Value\n",
              "0  2000  European Union (28 countries)    NaN\n",
              "1  2001  European Union (28 countries)    NaN\n",
              "2  2002  European Union (28 countries)   5.00\n",
              "3  2003  European Union (28 countries)   5.03\n",
              "4  2004  European Union (28 countries)   4.95"
            ]
          },
          "metadata": {
            "tags": []
          },
          "execution_count": 50
        }
      ]
    },
    {
      "cell_type": "markdown",
      "metadata": {
        "id": "okDEoLjhHSCK",
        "colab_type": "text"
      },
      "source": [
        "# 3"
      ]
    },
    {
      "cell_type": "code",
      "metadata": {
        "id": "zwEei86ASbpl",
        "colab_type": "code",
        "colab": {
          "base_uri": "https://localhost:8080/",
          "height": 84
        },
        "outputId": "8929f157-a65d-4228-8d5d-b0db01061b6f"
      },
      "source": [
        "emp['Value']=emp['Value'].fillna(emp.groupby('GEO')['Value'].transform('mean'))\n",
        "emp.isnull().sum()"
      ],
      "execution_count": 51,
      "outputs": [
        {
          "output_type": "execute_result",
          "data": {
            "text/plain": [
              "TIME     0\n",
              "GEO      0\n",
              "Value    0\n",
              "dtype: int64"
            ]
          },
          "metadata": {
            "tags": []
          },
          "execution_count": 51
        }
      ]
    },
    {
      "cell_type": "code",
      "metadata": {
        "id": "bPpmsdZCvpGm",
        "colab_type": "code",
        "colab": {
          "base_uri": "https://localhost:8080/",
          "height": 84
        },
        "outputId": "9c5ea57f-7a99-4065-b943-8557fc12f747"
      },
      "source": [
        "emp.dtypes"
      ],
      "execution_count": 52,
      "outputs": [
        {
          "output_type": "execute_result",
          "data": {
            "text/plain": [
              "TIME       int64\n",
              "GEO       object\n",
              "Value    float64\n",
              "dtype: object"
            ]
          },
          "metadata": {
            "tags": []
          },
          "execution_count": 52
        }
      ]
    },
    {
      "cell_type": "markdown",
      "metadata": {
        "id": "f24ibgnxHV0h",
        "colab_type": "text"
      },
      "source": [
        "# 5"
      ]
    },
    {
      "cell_type": "code",
      "metadata": {
        "id": "BJ0zRJ0txr_1",
        "colab_type": "code",
        "colab": {
          "base_uri": "https://localhost:8080/",
          "height": 639
        },
        "outputId": "758bd3d5-a26a-43ba-b27a-91c9b11d357c"
      },
      "source": [
        "emp.loc[(emp['Value']>5) &(emp['TIME']==2011)]"
      ],
      "execution_count": 53,
      "outputs": [
        {
          "output_type": "execute_result",
          "data": {
            "text/html": [
              "<div>\n",
              "<style scoped>\n",
              "    .dataframe tbody tr th:only-of-type {\n",
              "        vertical-align: middle;\n",
              "    }\n",
              "\n",
              "    .dataframe tbody tr th {\n",
              "        vertical-align: top;\n",
              "    }\n",
              "\n",
              "    .dataframe thead th {\n",
              "        text-align: right;\n",
              "    }\n",
              "</style>\n",
              "<table border=\"1\" class=\"dataframe\">\n",
              "  <thead>\n",
              "    <tr style=\"text-align: right;\">\n",
              "      <th></th>\n",
              "      <th>TIME</th>\n",
              "      <th>GEO</th>\n",
              "      <th>Value</th>\n",
              "    </tr>\n",
              "  </thead>\n",
              "  <tbody>\n",
              "    <tr>\n",
              "      <th>11</th>\n",
              "      <td>2011</td>\n",
              "      <td>European Union (28 countries)</td>\n",
              "      <td>5.25</td>\n",
              "    </tr>\n",
              "    <tr>\n",
              "      <th>23</th>\n",
              "      <td>2011</td>\n",
              "      <td>European Union (27 countries)</td>\n",
              "      <td>5.25</td>\n",
              "    </tr>\n",
              "    <tr>\n",
              "      <th>35</th>\n",
              "      <td>2011</td>\n",
              "      <td>European Union (25 countries)</td>\n",
              "      <td>5.31</td>\n",
              "    </tr>\n",
              "    <tr>\n",
              "      <th>47</th>\n",
              "      <td>2011</td>\n",
              "      <td>Euro area (18 countries)</td>\n",
              "      <td>5.15</td>\n",
              "    </tr>\n",
              "    <tr>\n",
              "      <th>59</th>\n",
              "      <td>2011</td>\n",
              "      <td>Euro area (17 countries)</td>\n",
              "      <td>5.15</td>\n",
              "    </tr>\n",
              "    <tr>\n",
              "      <th>71</th>\n",
              "      <td>2011</td>\n",
              "      <td>Euro area (15 countries)</td>\n",
              "      <td>5.16</td>\n",
              "    </tr>\n",
              "    <tr>\n",
              "      <th>83</th>\n",
              "      <td>2011</td>\n",
              "      <td>Euro area (13 countries)</td>\n",
              "      <td>5.15</td>\n",
              "    </tr>\n",
              "    <tr>\n",
              "      <th>95</th>\n",
              "      <td>2011</td>\n",
              "      <td>Belgium</td>\n",
              "      <td>6.55</td>\n",
              "    </tr>\n",
              "    <tr>\n",
              "      <th>131</th>\n",
              "      <td>2011</td>\n",
              "      <td>Denmark</td>\n",
              "      <td>8.75</td>\n",
              "    </tr>\n",
              "    <tr>\n",
              "      <th>155</th>\n",
              "      <td>2011</td>\n",
              "      <td>Estonia</td>\n",
              "      <td>5.16</td>\n",
              "    </tr>\n",
              "    <tr>\n",
              "      <th>167</th>\n",
              "      <td>2011</td>\n",
              "      <td>Ireland</td>\n",
              "      <td>6.15</td>\n",
              "    </tr>\n",
              "    <tr>\n",
              "      <th>203</th>\n",
              "      <td>2011</td>\n",
              "      <td>France</td>\n",
              "      <td>5.68</td>\n",
              "    </tr>\n",
              "    <tr>\n",
              "      <th>227</th>\n",
              "      <td>2011</td>\n",
              "      <td>Cyprus</td>\n",
              "      <td>7.87</td>\n",
              "    </tr>\n",
              "    <tr>\n",
              "      <th>251</th>\n",
              "      <td>2011</td>\n",
              "      <td>Lithuania</td>\n",
              "      <td>5.17</td>\n",
              "    </tr>\n",
              "    <tr>\n",
              "      <th>287</th>\n",
              "      <td>2011</td>\n",
              "      <td>Malta</td>\n",
              "      <td>7.96</td>\n",
              "    </tr>\n",
              "    <tr>\n",
              "      <th>299</th>\n",
              "      <td>2011</td>\n",
              "      <td>Netherlands</td>\n",
              "      <td>5.93</td>\n",
              "    </tr>\n",
              "    <tr>\n",
              "      <th>311</th>\n",
              "      <td>2011</td>\n",
              "      <td>Austria</td>\n",
              "      <td>5.80</td>\n",
              "    </tr>\n",
              "    <tr>\n",
              "      <th>335</th>\n",
              "      <td>2011</td>\n",
              "      <td>Portugal</td>\n",
              "      <td>5.27</td>\n",
              "    </tr>\n",
              "    <tr>\n",
              "      <th>359</th>\n",
              "      <td>2011</td>\n",
              "      <td>Slovenia</td>\n",
              "      <td>5.68</td>\n",
              "    </tr>\n",
              "    <tr>\n",
              "      <th>383</th>\n",
              "      <td>2011</td>\n",
              "      <td>Finland</td>\n",
              "      <td>6.76</td>\n",
              "    </tr>\n",
              "  </tbody>\n",
              "</table>\n",
              "</div>"
            ],
            "text/plain": [
              "     TIME                            GEO  Value\n",
              "11   2011  European Union (28 countries)   5.25\n",
              "23   2011  European Union (27 countries)   5.25\n",
              "35   2011  European Union (25 countries)   5.31\n",
              "47   2011       Euro area (18 countries)   5.15\n",
              "59   2011       Euro area (17 countries)   5.15\n",
              "71   2011       Euro area (15 countries)   5.16\n",
              "83   2011       Euro area (13 countries)   5.15\n",
              "95   2011                        Belgium   6.55\n",
              "131  2011                        Denmark   8.75\n",
              "155  2011                        Estonia   5.16\n",
              "167  2011                        Ireland   6.15\n",
              "203  2011                         France   5.68\n",
              "227  2011                         Cyprus   7.87\n",
              "251  2011                      Lithuania   5.17\n",
              "287  2011                          Malta   7.96\n",
              "299  2011                    Netherlands   5.93\n",
              "311  2011                        Austria   5.80\n",
              "335  2011                       Portugal   5.27\n",
              "359  2011                       Slovenia   5.68\n",
              "383  2011                        Finland   6.76"
            ]
          },
          "metadata": {
            "tags": []
          },
          "execution_count": 53
        }
      ]
    },
    {
      "cell_type": "markdown",
      "metadata": {
        "id": "96LTA-WJIGoi",
        "colab_type": "text"
      },
      "source": [
        "# 6"
      ]
    },
    {
      "cell_type": "code",
      "metadata": {
        "id": "BPik8jJ9xteb",
        "colab_type": "code",
        "colab": {
          "base_uri": "https://localhost:8080/",
          "height": 84
        },
        "outputId": "d31039fb-ee76-42cf-c6b7-def74dd86e80"
      },
      "source": [
        "emp.max()"
      ],
      "execution_count": 54,
      "outputs": [
        {
          "output_type": "execute_result",
          "data": {
            "text/plain": [
              "TIME      2011\n",
              "GEO      Spain\n",
              "Value     8.81\n",
              "dtype: object"
            ]
          },
          "metadata": {
            "tags": []
          },
          "execution_count": 54
        }
      ]
    },
    {
      "cell_type": "markdown",
      "metadata": {
        "id": "RCg3ErFkIKB0",
        "colab_type": "text"
      },
      "source": [
        "# 7"
      ]
    },
    {
      "cell_type": "code",
      "metadata": {
        "id": "oLIfCMSOz-yI",
        "colab_type": "code",
        "colab": {
          "base_uri": "https://localhost:8080/",
          "height": 195
        },
        "outputId": "5d261042-27ea-4bff-9544-c861dd79c170"
      },
      "source": [
        "emp['val_sq']=emp['Value']**2\n",
        "emp.head()"
      ],
      "execution_count": 55,
      "outputs": [
        {
          "output_type": "execute_result",
          "data": {
            "text/html": [
              "<div>\n",
              "<style scoped>\n",
              "    .dataframe tbody tr th:only-of-type {\n",
              "        vertical-align: middle;\n",
              "    }\n",
              "\n",
              "    .dataframe tbody tr th {\n",
              "        vertical-align: top;\n",
              "    }\n",
              "\n",
              "    .dataframe thead th {\n",
              "        text-align: right;\n",
              "    }\n",
              "</style>\n",
              "<table border=\"1\" class=\"dataframe\">\n",
              "  <thead>\n",
              "    <tr style=\"text-align: right;\">\n",
              "      <th></th>\n",
              "      <th>TIME</th>\n",
              "      <th>GEO</th>\n",
              "      <th>Value</th>\n",
              "      <th>val_sq</th>\n",
              "    </tr>\n",
              "  </thead>\n",
              "  <tbody>\n",
              "    <tr>\n",
              "      <th>0</th>\n",
              "      <td>2000</td>\n",
              "      <td>European Union (28 countries)</td>\n",
              "      <td>5.081</td>\n",
              "      <td>25.816561</td>\n",
              "    </tr>\n",
              "    <tr>\n",
              "      <th>1</th>\n",
              "      <td>2001</td>\n",
              "      <td>European Union (28 countries)</td>\n",
              "      <td>5.081</td>\n",
              "      <td>25.816561</td>\n",
              "    </tr>\n",
              "    <tr>\n",
              "      <th>2</th>\n",
              "      <td>2002</td>\n",
              "      <td>European Union (28 countries)</td>\n",
              "      <td>5.000</td>\n",
              "      <td>25.000000</td>\n",
              "    </tr>\n",
              "    <tr>\n",
              "      <th>3</th>\n",
              "      <td>2003</td>\n",
              "      <td>European Union (28 countries)</td>\n",
              "      <td>5.030</td>\n",
              "      <td>25.300900</td>\n",
              "    </tr>\n",
              "    <tr>\n",
              "      <th>4</th>\n",
              "      <td>2004</td>\n",
              "      <td>European Union (28 countries)</td>\n",
              "      <td>4.950</td>\n",
              "      <td>24.502500</td>\n",
              "    </tr>\n",
              "  </tbody>\n",
              "</table>\n",
              "</div>"
            ],
            "text/plain": [
              "   TIME                            GEO  Value     val_sq\n",
              "0  2000  European Union (28 countries)  5.081  25.816561\n",
              "1  2001  European Union (28 countries)  5.081  25.816561\n",
              "2  2002  European Union (28 countries)  5.000  25.000000\n",
              "3  2003  European Union (28 countries)  5.030  25.300900\n",
              "4  2004  European Union (28 countries)  4.950  24.502500"
            ]
          },
          "metadata": {
            "tags": []
          },
          "execution_count": 55
        }
      ]
    },
    {
      "cell_type": "markdown",
      "metadata": {
        "id": "K7sMs7uLIMBy",
        "colab_type": "text"
      },
      "source": [
        "# 8"
      ]
    },
    {
      "cell_type": "code",
      "metadata": {
        "id": "9OSGaobi0Kyl",
        "colab_type": "code",
        "colab": {
          "base_uri": "https://localhost:8080/",
          "height": 195
        },
        "outputId": "f6e2a169-1912-4ab8-db55-6a5c25589e06"
      },
      "source": [
        "emp.drop('val_sq',1,inplace=True)\n",
        "emp.head()"
      ],
      "execution_count": 56,
      "outputs": [
        {
          "output_type": "execute_result",
          "data": {
            "text/html": [
              "<div>\n",
              "<style scoped>\n",
              "    .dataframe tbody tr th:only-of-type {\n",
              "        vertical-align: middle;\n",
              "    }\n",
              "\n",
              "    .dataframe tbody tr th {\n",
              "        vertical-align: top;\n",
              "    }\n",
              "\n",
              "    .dataframe thead th {\n",
              "        text-align: right;\n",
              "    }\n",
              "</style>\n",
              "<table border=\"1\" class=\"dataframe\">\n",
              "  <thead>\n",
              "    <tr style=\"text-align: right;\">\n",
              "      <th></th>\n",
              "      <th>TIME</th>\n",
              "      <th>GEO</th>\n",
              "      <th>Value</th>\n",
              "    </tr>\n",
              "  </thead>\n",
              "  <tbody>\n",
              "    <tr>\n",
              "      <th>0</th>\n",
              "      <td>2000</td>\n",
              "      <td>European Union (28 countries)</td>\n",
              "      <td>5.081</td>\n",
              "    </tr>\n",
              "    <tr>\n",
              "      <th>1</th>\n",
              "      <td>2001</td>\n",
              "      <td>European Union (28 countries)</td>\n",
              "      <td>5.081</td>\n",
              "    </tr>\n",
              "    <tr>\n",
              "      <th>2</th>\n",
              "      <td>2002</td>\n",
              "      <td>European Union (28 countries)</td>\n",
              "      <td>5.000</td>\n",
              "    </tr>\n",
              "    <tr>\n",
              "      <th>3</th>\n",
              "      <td>2003</td>\n",
              "      <td>European Union (28 countries)</td>\n",
              "      <td>5.030</td>\n",
              "    </tr>\n",
              "    <tr>\n",
              "      <th>4</th>\n",
              "      <td>2004</td>\n",
              "      <td>European Union (28 countries)</td>\n",
              "      <td>4.950</td>\n",
              "    </tr>\n",
              "  </tbody>\n",
              "</table>\n",
              "</div>"
            ],
            "text/plain": [
              "   TIME                            GEO  Value\n",
              "0  2000  European Union (28 countries)  5.081\n",
              "1  2001  European Union (28 countries)  5.081\n",
              "2  2002  European Union (28 countries)  5.000\n",
              "3  2003  European Union (28 countries)  5.030\n",
              "4  2004  European Union (28 countries)  4.950"
            ]
          },
          "metadata": {
            "tags": []
          },
          "execution_count": 56
        }
      ]
    },
    {
      "cell_type": "markdown",
      "metadata": {
        "id": "F4W7shotIPmJ",
        "colab_type": "text"
      },
      "source": [
        "# 9"
      ]
    },
    {
      "cell_type": "code",
      "metadata": {
        "id": "SlEPdRPH0j7w",
        "colab_type": "code",
        "colab": {
          "base_uri": "https://localhost:8080/",
          "height": 402
        },
        "outputId": "1be81d06-3923-440f-eb2a-c5b235a39583"
      },
      "source": [
        "app=pd.DataFrame({'TIME':[2000],'GEO':['a'],'Value':[5]})\n",
        "emp.append(app,ignore_index=True)"
      ],
      "execution_count": 57,
      "outputs": [
        {
          "output_type": "execute_result",
          "data": {
            "text/html": [
              "<div>\n",
              "<style scoped>\n",
              "    .dataframe tbody tr th:only-of-type {\n",
              "        vertical-align: middle;\n",
              "    }\n",
              "\n",
              "    .dataframe tbody tr th {\n",
              "        vertical-align: top;\n",
              "    }\n",
              "\n",
              "    .dataframe thead th {\n",
              "        text-align: right;\n",
              "    }\n",
              "</style>\n",
              "<table border=\"1\" class=\"dataframe\">\n",
              "  <thead>\n",
              "    <tr style=\"text-align: right;\">\n",
              "      <th></th>\n",
              "      <th>TIME</th>\n",
              "      <th>GEO</th>\n",
              "      <th>Value</th>\n",
              "    </tr>\n",
              "  </thead>\n",
              "  <tbody>\n",
              "    <tr>\n",
              "      <th>0</th>\n",
              "      <td>2000</td>\n",
              "      <td>European Union (28 countries)</td>\n",
              "      <td>5.081</td>\n",
              "    </tr>\n",
              "    <tr>\n",
              "      <th>1</th>\n",
              "      <td>2001</td>\n",
              "      <td>European Union (28 countries)</td>\n",
              "      <td>5.081</td>\n",
              "    </tr>\n",
              "    <tr>\n",
              "      <th>2</th>\n",
              "      <td>2002</td>\n",
              "      <td>European Union (28 countries)</td>\n",
              "      <td>5.000</td>\n",
              "    </tr>\n",
              "    <tr>\n",
              "      <th>3</th>\n",
              "      <td>2003</td>\n",
              "      <td>European Union (28 countries)</td>\n",
              "      <td>5.030</td>\n",
              "    </tr>\n",
              "    <tr>\n",
              "      <th>4</th>\n",
              "      <td>2004</td>\n",
              "      <td>European Union (28 countries)</td>\n",
              "      <td>4.950</td>\n",
              "    </tr>\n",
              "    <tr>\n",
              "      <th>...</th>\n",
              "      <td>...</td>\n",
              "      <td>...</td>\n",
              "      <td>...</td>\n",
              "    </tr>\n",
              "    <tr>\n",
              "      <th>380</th>\n",
              "      <td>2008</td>\n",
              "      <td>Finland</td>\n",
              "      <td>6.100</td>\n",
              "    </tr>\n",
              "    <tr>\n",
              "      <th>381</th>\n",
              "      <td>2009</td>\n",
              "      <td>Finland</td>\n",
              "      <td>6.810</td>\n",
              "    </tr>\n",
              "    <tr>\n",
              "      <th>382</th>\n",
              "      <td>2010</td>\n",
              "      <td>Finland</td>\n",
              "      <td>6.850</td>\n",
              "    </tr>\n",
              "    <tr>\n",
              "      <th>383</th>\n",
              "      <td>2011</td>\n",
              "      <td>Finland</td>\n",
              "      <td>6.760</td>\n",
              "    </tr>\n",
              "    <tr>\n",
              "      <th>384</th>\n",
              "      <td>2000</td>\n",
              "      <td>a</td>\n",
              "      <td>5.000</td>\n",
              "    </tr>\n",
              "  </tbody>\n",
              "</table>\n",
              "<p>385 rows × 3 columns</p>\n",
              "</div>"
            ],
            "text/plain": [
              "     TIME                            GEO  Value\n",
              "0    2000  European Union (28 countries)  5.081\n",
              "1    2001  European Union (28 countries)  5.081\n",
              "2    2002  European Union (28 countries)  5.000\n",
              "3    2003  European Union (28 countries)  5.030\n",
              "4    2004  European Union (28 countries)  4.950\n",
              "..    ...                            ...    ...\n",
              "380  2008                        Finland  6.100\n",
              "381  2009                        Finland  6.810\n",
              "382  2010                        Finland  6.850\n",
              "383  2011                        Finland  6.760\n",
              "384  2000                              a  5.000\n",
              "\n",
              "[385 rows x 3 columns]"
            ]
          },
          "metadata": {
            "tags": []
          },
          "execution_count": 57
        }
      ]
    },
    {
      "cell_type": "markdown",
      "metadata": {
        "id": "W5cl0o56ITTE",
        "colab_type": "text"
      },
      "source": [
        "# 10"
      ]
    },
    {
      "cell_type": "code",
      "metadata": {
        "id": "PBG8wEVj0nvC",
        "colab_type": "code",
        "colab": {
          "base_uri": "https://localhost:8080/",
          "height": 402
        },
        "outputId": "d05d8676-b0ed-4ed7-ffc0-e34b7b680fbb"
      },
      "source": [
        "emp.sort_values('Value',0,False)"
      ],
      "execution_count": 58,
      "outputs": [
        {
          "output_type": "execute_result",
          "data": {
            "text/html": [
              "<div>\n",
              "<style scoped>\n",
              "    .dataframe tbody tr th:only-of-type {\n",
              "        vertical-align: middle;\n",
              "    }\n",
              "\n",
              "    .dataframe tbody tr th {\n",
              "        vertical-align: top;\n",
              "    }\n",
              "\n",
              "    .dataframe thead th {\n",
              "        text-align: right;\n",
              "    }\n",
              "</style>\n",
              "<table border=\"1\" class=\"dataframe\">\n",
              "  <thead>\n",
              "    <tr style=\"text-align: right;\">\n",
              "      <th></th>\n",
              "      <th>TIME</th>\n",
              "      <th>GEO</th>\n",
              "      <th>Value</th>\n",
              "    </tr>\n",
              "  </thead>\n",
              "  <tbody>\n",
              "    <tr>\n",
              "      <th>130</th>\n",
              "      <td>2010</td>\n",
              "      <td>Denmark</td>\n",
              "      <td>8.81</td>\n",
              "    </tr>\n",
              "    <tr>\n",
              "      <th>131</th>\n",
              "      <td>2011</td>\n",
              "      <td>Denmark</td>\n",
              "      <td>8.75</td>\n",
              "    </tr>\n",
              "    <tr>\n",
              "      <th>129</th>\n",
              "      <td>2009</td>\n",
              "      <td>Denmark</td>\n",
              "      <td>8.74</td>\n",
              "    </tr>\n",
              "    <tr>\n",
              "      <th>121</th>\n",
              "      <td>2001</td>\n",
              "      <td>Denmark</td>\n",
              "      <td>8.44</td>\n",
              "    </tr>\n",
              "    <tr>\n",
              "      <th>122</th>\n",
              "      <td>2002</td>\n",
              "      <td>Denmark</td>\n",
              "      <td>8.44</td>\n",
              "    </tr>\n",
              "    <tr>\n",
              "      <th>...</th>\n",
              "      <td>...</td>\n",
              "      <td>...</td>\n",
              "      <td>...</td>\n",
              "    </tr>\n",
              "    <tr>\n",
              "      <th>340</th>\n",
              "      <td>2004</td>\n",
              "      <td>Romania</td>\n",
              "      <td>3.28</td>\n",
              "    </tr>\n",
              "    <tr>\n",
              "      <th>337</th>\n",
              "      <td>2001</td>\n",
              "      <td>Romania</td>\n",
              "      <td>3.25</td>\n",
              "    </tr>\n",
              "    <tr>\n",
              "      <th>259</th>\n",
              "      <td>2007</td>\n",
              "      <td>Luxembourg</td>\n",
              "      <td>3.15</td>\n",
              "    </tr>\n",
              "    <tr>\n",
              "      <th>347</th>\n",
              "      <td>2011</td>\n",
              "      <td>Romania</td>\n",
              "      <td>3.07</td>\n",
              "    </tr>\n",
              "    <tr>\n",
              "      <th>336</th>\n",
              "      <td>2000</td>\n",
              "      <td>Romania</td>\n",
              "      <td>2.88</td>\n",
              "    </tr>\n",
              "  </tbody>\n",
              "</table>\n",
              "<p>384 rows × 3 columns</p>\n",
              "</div>"
            ],
            "text/plain": [
              "     TIME         GEO  Value\n",
              "130  2010     Denmark   8.81\n",
              "131  2011     Denmark   8.75\n",
              "129  2009     Denmark   8.74\n",
              "121  2001     Denmark   8.44\n",
              "122  2002     Denmark   8.44\n",
              "..    ...         ...    ...\n",
              "340  2004     Romania   3.28\n",
              "337  2001     Romania   3.25\n",
              "259  2007  Luxembourg   3.15\n",
              "347  2011     Romania   3.07\n",
              "336  2000     Romania   2.88\n",
              "\n",
              "[384 rows x 3 columns]"
            ]
          },
          "metadata": {
            "tags": []
          },
          "execution_count": 58
        }
      ]
    },
    {
      "cell_type": "markdown",
      "metadata": {
        "id": "80aZenzBIVyC",
        "colab_type": "text"
      },
      "source": [
        "# 11"
      ]
    },
    {
      "cell_type": "code",
      "metadata": {
        "id": "2On1ZG3x2a2a",
        "colab_type": "code",
        "colab": {
          "base_uri": "https://localhost:8080/",
          "height": 588
        },
        "outputId": "9419186b-25ad-4577-d0aa-e2e93152544b"
      },
      "source": [
        "b=emp.groupby('GEO').mean()\n",
        "b['Value']"
      ],
      "execution_count": 59,
      "outputs": [
        {
          "output_type": "execute_result",
          "data": {
            "text/plain": [
              "GEO\n",
              "Austria                                             5.618333\n",
              "Belgium                                             6.189091\n",
              "Bulgaria                                            4.093333\n",
              "Cyprus                                              7.023333\n",
              "Czech Republic                                      4.168333\n",
              "Denmark                                             8.331667\n",
              "Estonia                                             5.270833\n",
              "Euro area (13 countries)                            5.019091\n",
              "Euro area (15 countries)                            5.025455\n",
              "Euro area (17 countries)                            4.943000\n",
              "Euro area (18 countries)                            4.944000\n",
              "European Union (25 countries)                       5.091667\n",
              "European Union (27 countries)                       5.060833\n",
              "European Union (28 countries)                       5.081000\n",
              "Finland                                             6.326667\n",
              "France                                              5.797500\n",
              "Germany (until 1990 former territory of the FRG)    4.685000\n",
              "Greece                                              3.710000\n",
              "Hungary                                             5.193333\n",
              "Ireland                                             5.070000\n",
              "Italy                                               4.552500\n",
              "Latvia                                              5.560000\n",
              "Lithuania                                           5.250000\n",
              "Luxembourg                                          3.645714\n",
              "Malta                                               5.591667\n",
              "Netherlands                                         5.497500\n",
              "Poland                                              5.197500\n",
              "Portugal                                            5.297500\n",
              "Romania                                             3.494000\n",
              "Slovakia                                            3.996667\n",
              "Slovenia                                            5.637273\n",
              "Spain                                               4.464167\n",
              "Name: Value, dtype: float64"
            ]
          },
          "metadata": {
            "tags": []
          },
          "execution_count": 59
        }
      ]
    },
    {
      "cell_type": "markdown",
      "metadata": {
        "id": "2UkfksW1IbJy",
        "colab_type": "text"
      },
      "source": [
        "# 12"
      ]
    },
    {
      "cell_type": "code",
      "metadata": {
        "id": "XViU-WCw2pGM",
        "colab_type": "code",
        "colab": {
          "base_uri": "https://localhost:8080/",
          "height": 1024
        },
        "outputId": "a69d4a66-c885-4d9a-ee64-fa3c8829c916"
      },
      "source": [
        "en = emp.copy()\n",
        "en=en.loc[(en['TIME']>2005)].pivot(index='GEO',columns='TIME',values='Value')\n",
        "en"
      ],
      "execution_count": 60,
      "outputs": [
        {
          "output_type": "execute_result",
          "data": {
            "text/html": [
              "<div>\n",
              "<style scoped>\n",
              "    .dataframe tbody tr th:only-of-type {\n",
              "        vertical-align: middle;\n",
              "    }\n",
              "\n",
              "    .dataframe tbody tr th {\n",
              "        vertical-align: top;\n",
              "    }\n",
              "\n",
              "    .dataframe thead th {\n",
              "        text-align: right;\n",
              "    }\n",
              "</style>\n",
              "<table border=\"1\" class=\"dataframe\">\n",
              "  <thead>\n",
              "    <tr style=\"text-align: right;\">\n",
              "      <th>TIME</th>\n",
              "      <th>2006</th>\n",
              "      <th>2007</th>\n",
              "      <th>2008</th>\n",
              "      <th>2009</th>\n",
              "      <th>2010</th>\n",
              "      <th>2011</th>\n",
              "    </tr>\n",
              "    <tr>\n",
              "      <th>GEO</th>\n",
              "      <th></th>\n",
              "      <th></th>\n",
              "      <th></th>\n",
              "      <th></th>\n",
              "      <th></th>\n",
              "      <th></th>\n",
              "    </tr>\n",
              "  </thead>\n",
              "  <tbody>\n",
              "    <tr>\n",
              "      <th>Austria</th>\n",
              "      <td>5.400</td>\n",
              "      <td>5.33</td>\n",
              "      <td>5.470000</td>\n",
              "      <td>5.980000</td>\n",
              "      <td>5.910000</td>\n",
              "      <td>5.800000</td>\n",
              "    </tr>\n",
              "    <tr>\n",
              "      <th>Belgium</th>\n",
              "      <td>5.980</td>\n",
              "      <td>6.00</td>\n",
              "      <td>6.430000</td>\n",
              "      <td>6.570000</td>\n",
              "      <td>6.580000</td>\n",
              "      <td>6.550000</td>\n",
              "    </tr>\n",
              "    <tr>\n",
              "      <th>Bulgaria</th>\n",
              "      <td>4.040</td>\n",
              "      <td>3.88</td>\n",
              "      <td>4.440000</td>\n",
              "      <td>4.580000</td>\n",
              "      <td>4.100000</td>\n",
              "      <td>3.820000</td>\n",
              "    </tr>\n",
              "    <tr>\n",
              "      <th>Cyprus</th>\n",
              "      <td>7.020</td>\n",
              "      <td>6.95</td>\n",
              "      <td>7.450000</td>\n",
              "      <td>7.980000</td>\n",
              "      <td>7.920000</td>\n",
              "      <td>7.870000</td>\n",
              "    </tr>\n",
              "    <tr>\n",
              "      <th>Czech Republic</th>\n",
              "      <td>4.420</td>\n",
              "      <td>4.05</td>\n",
              "      <td>3.920000</td>\n",
              "      <td>4.360000</td>\n",
              "      <td>4.250000</td>\n",
              "      <td>4.510000</td>\n",
              "    </tr>\n",
              "    <tr>\n",
              "      <th>Denmark</th>\n",
              "      <td>7.970</td>\n",
              "      <td>7.81</td>\n",
              "      <td>7.680000</td>\n",
              "      <td>8.740000</td>\n",
              "      <td>8.810000</td>\n",
              "      <td>8.750000</td>\n",
              "    </tr>\n",
              "    <tr>\n",
              "      <th>Estonia</th>\n",
              "      <td>4.700</td>\n",
              "      <td>4.72</td>\n",
              "      <td>5.610000</td>\n",
              "      <td>6.030000</td>\n",
              "      <td>5.660000</td>\n",
              "      <td>5.160000</td>\n",
              "    </tr>\n",
              "    <tr>\n",
              "      <th>Euro area (13 countries)</th>\n",
              "      <td>4.870</td>\n",
              "      <td>4.80</td>\n",
              "      <td>4.940000</td>\n",
              "      <td>5.320000</td>\n",
              "      <td>5.280000</td>\n",
              "      <td>5.150000</td>\n",
              "    </tr>\n",
              "    <tr>\n",
              "      <th>Euro area (15 countries)</th>\n",
              "      <td>4.870</td>\n",
              "      <td>4.81</td>\n",
              "      <td>4.950000</td>\n",
              "      <td>5.320000</td>\n",
              "      <td>5.290000</td>\n",
              "      <td>5.160000</td>\n",
              "    </tr>\n",
              "    <tr>\n",
              "      <th>Euro area (17 countries)</th>\n",
              "      <td>4.690</td>\n",
              "      <td>4.79</td>\n",
              "      <td>4.940000</td>\n",
              "      <td>5.310000</td>\n",
              "      <td>5.280000</td>\n",
              "      <td>5.150000</td>\n",
              "    </tr>\n",
              "    <tr>\n",
              "      <th>Euro area (18 countries)</th>\n",
              "      <td>4.690</td>\n",
              "      <td>4.79</td>\n",
              "      <td>4.940000</td>\n",
              "      <td>5.310000</td>\n",
              "      <td>5.280000</td>\n",
              "      <td>5.150000</td>\n",
              "    </tr>\n",
              "    <tr>\n",
              "      <th>European Union (25 countries)</th>\n",
              "      <td>4.930</td>\n",
              "      <td>4.95</td>\n",
              "      <td>5.060000</td>\n",
              "      <td>5.410000</td>\n",
              "      <td>5.460000</td>\n",
              "      <td>5.310000</td>\n",
              "    </tr>\n",
              "    <tr>\n",
              "      <th>European Union (27 countries)</th>\n",
              "      <td>4.910</td>\n",
              "      <td>4.93</td>\n",
              "      <td>5.040000</td>\n",
              "      <td>5.380000</td>\n",
              "      <td>5.410000</td>\n",
              "      <td>5.250000</td>\n",
              "    </tr>\n",
              "    <tr>\n",
              "      <th>European Union (28 countries)</th>\n",
              "      <td>4.910</td>\n",
              "      <td>4.92</td>\n",
              "      <td>5.040000</td>\n",
              "      <td>5.380000</td>\n",
              "      <td>5.410000</td>\n",
              "      <td>5.250000</td>\n",
              "    </tr>\n",
              "    <tr>\n",
              "      <th>Finland</th>\n",
              "      <td>6.180</td>\n",
              "      <td>5.90</td>\n",
              "      <td>6.100000</td>\n",
              "      <td>6.810000</td>\n",
              "      <td>6.850000</td>\n",
              "      <td>6.760000</td>\n",
              "    </tr>\n",
              "    <tr>\n",
              "      <th>France</th>\n",
              "      <td>5.610</td>\n",
              "      <td>5.62</td>\n",
              "      <td>5.620000</td>\n",
              "      <td>5.900000</td>\n",
              "      <td>5.860000</td>\n",
              "      <td>5.680000</td>\n",
              "    </tr>\n",
              "    <tr>\n",
              "      <th>Germany (until 1990 former territory of the FRG)</th>\n",
              "      <td>4.430</td>\n",
              "      <td>4.49</td>\n",
              "      <td>4.570000</td>\n",
              "      <td>5.060000</td>\n",
              "      <td>5.080000</td>\n",
              "      <td>4.980000</td>\n",
              "    </tr>\n",
              "    <tr>\n",
              "      <th>Greece</th>\n",
              "      <td>3.710</td>\n",
              "      <td>3.71</td>\n",
              "      <td>3.710000</td>\n",
              "      <td>3.710000</td>\n",
              "      <td>3.710000</td>\n",
              "      <td>3.710000</td>\n",
              "    </tr>\n",
              "    <tr>\n",
              "      <th>Hungary</th>\n",
              "      <td>5.440</td>\n",
              "      <td>5.29</td>\n",
              "      <td>5.100000</td>\n",
              "      <td>5.120000</td>\n",
              "      <td>4.900000</td>\n",
              "      <td>4.710000</td>\n",
              "    </tr>\n",
              "    <tr>\n",
              "      <th>Ireland</th>\n",
              "      <td>4.730</td>\n",
              "      <td>4.92</td>\n",
              "      <td>5.670000</td>\n",
              "      <td>6.430000</td>\n",
              "      <td>6.410000</td>\n",
              "      <td>6.150000</td>\n",
              "    </tr>\n",
              "    <tr>\n",
              "      <th>Italy</th>\n",
              "      <td>4.670</td>\n",
              "      <td>4.27</td>\n",
              "      <td>4.560000</td>\n",
              "      <td>4.700000</td>\n",
              "      <td>4.500000</td>\n",
              "      <td>4.290000</td>\n",
              "    </tr>\n",
              "    <tr>\n",
              "      <th>Latvia</th>\n",
              "      <td>5.130</td>\n",
              "      <td>5.07</td>\n",
              "      <td>5.710000</td>\n",
              "      <td>5.590000</td>\n",
              "      <td>4.960000</td>\n",
              "      <td>4.960000</td>\n",
              "    </tr>\n",
              "    <tr>\n",
              "      <th>Lithuania</th>\n",
              "      <td>4.820</td>\n",
              "      <td>4.64</td>\n",
              "      <td>4.880000</td>\n",
              "      <td>5.640000</td>\n",
              "      <td>5.360000</td>\n",
              "      <td>5.170000</td>\n",
              "    </tr>\n",
              "    <tr>\n",
              "      <th>Luxembourg</th>\n",
              "      <td>3.410</td>\n",
              "      <td>3.15</td>\n",
              "      <td>3.645714</td>\n",
              "      <td>3.645714</td>\n",
              "      <td>3.645714</td>\n",
              "      <td>3.645714</td>\n",
              "    </tr>\n",
              "    <tr>\n",
              "      <th>Malta</th>\n",
              "      <td>6.450</td>\n",
              "      <td>6.18</td>\n",
              "      <td>5.720000</td>\n",
              "      <td>5.320000</td>\n",
              "      <td>6.740000</td>\n",
              "      <td>7.960000</td>\n",
              "    </tr>\n",
              "    <tr>\n",
              "      <th>Netherlands</th>\n",
              "      <td>5.500</td>\n",
              "      <td>5.32</td>\n",
              "      <td>5.500000</td>\n",
              "      <td>5.950000</td>\n",
              "      <td>5.980000</td>\n",
              "      <td>5.930000</td>\n",
              "    </tr>\n",
              "    <tr>\n",
              "      <th>Poland</th>\n",
              "      <td>5.250</td>\n",
              "      <td>4.91</td>\n",
              "      <td>5.080000</td>\n",
              "      <td>5.090000</td>\n",
              "      <td>5.170000</td>\n",
              "      <td>4.940000</td>\n",
              "    </tr>\n",
              "    <tr>\n",
              "      <th>Portugal</th>\n",
              "      <td>5.070</td>\n",
              "      <td>5.10</td>\n",
              "      <td>4.890000</td>\n",
              "      <td>5.790000</td>\n",
              "      <td>5.620000</td>\n",
              "      <td>5.270000</td>\n",
              "    </tr>\n",
              "    <tr>\n",
              "      <th>Romania</th>\n",
              "      <td>3.494</td>\n",
              "      <td>4.25</td>\n",
              "      <td>3.494000</td>\n",
              "      <td>4.240000</td>\n",
              "      <td>3.530000</td>\n",
              "      <td>3.070000</td>\n",
              "    </tr>\n",
              "    <tr>\n",
              "      <th>Slovakia</th>\n",
              "      <td>3.800</td>\n",
              "      <td>3.62</td>\n",
              "      <td>3.610000</td>\n",
              "      <td>4.090000</td>\n",
              "      <td>4.220000</td>\n",
              "      <td>4.060000</td>\n",
              "    </tr>\n",
              "    <tr>\n",
              "      <th>Slovenia</th>\n",
              "      <td>5.720</td>\n",
              "      <td>5.15</td>\n",
              "      <td>5.200000</td>\n",
              "      <td>5.690000</td>\n",
              "      <td>5.680000</td>\n",
              "      <td>5.680000</td>\n",
              "    </tr>\n",
              "    <tr>\n",
              "      <th>Spain</th>\n",
              "      <td>4.260</td>\n",
              "      <td>4.34</td>\n",
              "      <td>4.620000</td>\n",
              "      <td>5.020000</td>\n",
              "      <td>4.980000</td>\n",
              "      <td>4.820000</td>\n",
              "    </tr>\n",
              "  </tbody>\n",
              "</table>\n",
              "</div>"
            ],
            "text/plain": [
              "TIME                                               2006  ...      2011\n",
              "GEO                                                      ...          \n",
              "Austria                                           5.400  ...  5.800000\n",
              "Belgium                                           5.980  ...  6.550000\n",
              "Bulgaria                                          4.040  ...  3.820000\n",
              "Cyprus                                            7.020  ...  7.870000\n",
              "Czech Republic                                    4.420  ...  4.510000\n",
              "Denmark                                           7.970  ...  8.750000\n",
              "Estonia                                           4.700  ...  5.160000\n",
              "Euro area (13 countries)                          4.870  ...  5.150000\n",
              "Euro area (15 countries)                          4.870  ...  5.160000\n",
              "Euro area (17 countries)                          4.690  ...  5.150000\n",
              "Euro area (18 countries)                          4.690  ...  5.150000\n",
              "European Union (25 countries)                     4.930  ...  5.310000\n",
              "European Union (27 countries)                     4.910  ...  5.250000\n",
              "European Union (28 countries)                     4.910  ...  5.250000\n",
              "Finland                                           6.180  ...  6.760000\n",
              "France                                            5.610  ...  5.680000\n",
              "Germany (until 1990 former territory of the FRG)  4.430  ...  4.980000\n",
              "Greece                                            3.710  ...  3.710000\n",
              "Hungary                                           5.440  ...  4.710000\n",
              "Ireland                                           4.730  ...  6.150000\n",
              "Italy                                             4.670  ...  4.290000\n",
              "Latvia                                            5.130  ...  4.960000\n",
              "Lithuania                                         4.820  ...  5.170000\n",
              "Luxembourg                                        3.410  ...  3.645714\n",
              "Malta                                             6.450  ...  7.960000\n",
              "Netherlands                                       5.500  ...  5.930000\n",
              "Poland                                            5.250  ...  4.940000\n",
              "Portugal                                          5.070  ...  5.270000\n",
              "Romania                                           3.494  ...  3.070000\n",
              "Slovakia                                          3.800  ...  4.060000\n",
              "Slovenia                                          5.720  ...  5.680000\n",
              "Spain                                             4.260  ...  4.820000\n",
              "\n",
              "[32 rows x 6 columns]"
            ]
          },
          "metadata": {
            "tags": []
          },
          "execution_count": 60
        }
      ]
    },
    {
      "cell_type": "markdown",
      "metadata": {
        "id": "6tRtkB99Ic1C",
        "colab_type": "text"
      },
      "source": [
        "# 13,14"
      ]
    },
    {
      "cell_type": "code",
      "metadata": {
        "id": "vyple_1o4Hiy",
        "colab_type": "code",
        "colab": {
          "base_uri": "https://localhost:8080/",
          "height": 455
        },
        "outputId": "37f783ec-24af-431e-f415-3001620e96cd"
      },
      "source": [
        "sec=pd.read_csv('https://ec.europa.eu/eurostat/estat-navtree-portlet-prod/BulkDownloadListing?file=data/tps00053.tsv.gz',compression='gzip',sep=',|\\t')\n",
        "sec"
      ],
      "execution_count": 61,
      "outputs": [
        {
          "output_type": "stream",
          "text": [
            "/usr/local/lib/python3.6/dist-packages/ipykernel_launcher.py:1: ParserWarning: Falling back to the 'python' engine because the 'c' engine does not support regex separators (separators > 1 char and different from '\\s+' are interpreted as regex); you can avoid this warning by specifying engine='python'.\n",
            "  \"\"\"Entry point for launching an IPython kernel.\n"
          ],
          "name": "stderr"
        },
        {
          "output_type": "execute_result",
          "data": {
            "text/html": [
              "<div>\n",
              "<style scoped>\n",
              "    .dataframe tbody tr th:only-of-type {\n",
              "        vertical-align: middle;\n",
              "    }\n",
              "\n",
              "    .dataframe tbody tr th {\n",
              "        vertical-align: top;\n",
              "    }\n",
              "\n",
              "    .dataframe thead th {\n",
              "        text-align: right;\n",
              "    }\n",
              "</style>\n",
              "<table border=\"1\" class=\"dataframe\">\n",
              "  <thead>\n",
              "    <tr style=\"text-align: right;\">\n",
              "      <th></th>\n",
              "      <th>duration</th>\n",
              "      <th>isced11</th>\n",
              "      <th>age</th>\n",
              "      <th>sex</th>\n",
              "      <th>unit</th>\n",
              "      <th>geo\\time</th>\n",
              "      <th>2008</th>\n",
              "      <th>2009</th>\n",
              "      <th>2010</th>\n",
              "      <th>2011</th>\n",
              "      <th>2012</th>\n",
              "      <th>2013</th>\n",
              "      <th>2014</th>\n",
              "      <th>2015</th>\n",
              "      <th>2016</th>\n",
              "      <th>2017</th>\n",
              "      <th>2018</th>\n",
              "      <th>2019</th>\n",
              "    </tr>\n",
              "  </thead>\n",
              "  <tbody>\n",
              "    <tr>\n",
              "      <th>0</th>\n",
              "      <td>Y1-3</td>\n",
              "      <td>ED3-8</td>\n",
              "      <td>Y20-34</td>\n",
              "      <td>F</td>\n",
              "      <td>PC</td>\n",
              "      <td>AT</td>\n",
              "      <td>89.7</td>\n",
              "      <td>86.9</td>\n",
              "      <td>87.2</td>\n",
              "      <td>89.6</td>\n",
              "      <td>90.2</td>\n",
              "      <td>87.8</td>\n",
              "      <td>86.8 b</td>\n",
              "      <td>86.4</td>\n",
              "      <td>88.2</td>\n",
              "      <td>90.0</td>\n",
              "      <td>85.9</td>\n",
              "      <td>87.4</td>\n",
              "    </tr>\n",
              "    <tr>\n",
              "      <th>1</th>\n",
              "      <td>Y1-3</td>\n",
              "      <td>ED3-8</td>\n",
              "      <td>Y20-34</td>\n",
              "      <td>F</td>\n",
              "      <td>PC</td>\n",
              "      <td>BE</td>\n",
              "      <td>82.1 b</td>\n",
              "      <td>80.8</td>\n",
              "      <td>80.6</td>\n",
              "      <td>81.4 b</td>\n",
              "      <td>79.7</td>\n",
              "      <td>79.1</td>\n",
              "      <td>80.2 b</td>\n",
              "      <td>80.9</td>\n",
              "      <td>82.2</td>\n",
              "      <td>82.5 b</td>\n",
              "      <td>84.2</td>\n",
              "      <td>84.0</td>\n",
              "    </tr>\n",
              "    <tr>\n",
              "      <th>2</th>\n",
              "      <td>Y1-3</td>\n",
              "      <td>ED3-8</td>\n",
              "      <td>Y20-34</td>\n",
              "      <td>F</td>\n",
              "      <td>PC</td>\n",
              "      <td>BG</td>\n",
              "      <td>76.0 b</td>\n",
              "      <td>71.2</td>\n",
              "      <td>72.3 b</td>\n",
              "      <td>60.6</td>\n",
              "      <td>67.3</td>\n",
              "      <td>69.1</td>\n",
              "      <td>66.4 b</td>\n",
              "      <td>73.9</td>\n",
              "      <td>68.9</td>\n",
              "      <td>77.5</td>\n",
              "      <td>74.6</td>\n",
              "      <td>76.3</td>\n",
              "    </tr>\n",
              "    <tr>\n",
              "      <th>3</th>\n",
              "      <td>Y1-3</td>\n",
              "      <td>ED3-8</td>\n",
              "      <td>Y20-34</td>\n",
              "      <td>F</td>\n",
              "      <td>PC</td>\n",
              "      <td>CH</td>\n",
              "      <td>88.4</td>\n",
              "      <td>88.0</td>\n",
              "      <td>84.4 b</td>\n",
              "      <td>86.0</td>\n",
              "      <td>87.5</td>\n",
              "      <td>86.4</td>\n",
              "      <td>89.0 b</td>\n",
              "      <td>85.3</td>\n",
              "      <td>84.6</td>\n",
              "      <td>89.9</td>\n",
              "      <td>88.6</td>\n",
              "      <td>87.9</td>\n",
              "    </tr>\n",
              "    <tr>\n",
              "      <th>4</th>\n",
              "      <td>Y1-3</td>\n",
              "      <td>ED3-8</td>\n",
              "      <td>Y20-34</td>\n",
              "      <td>F</td>\n",
              "      <td>PC</td>\n",
              "      <td>CY</td>\n",
              "      <td>86.0</td>\n",
              "      <td>79.5 b</td>\n",
              "      <td>78.7</td>\n",
              "      <td>72.0</td>\n",
              "      <td>71.6</td>\n",
              "      <td>61.7</td>\n",
              "      <td>68.9 b</td>\n",
              "      <td>69.8</td>\n",
              "      <td>74.2</td>\n",
              "      <td>73.8</td>\n",
              "      <td>82.5</td>\n",
              "      <td>79.1</td>\n",
              "    </tr>\n",
              "    <tr>\n",
              "      <th>...</th>\n",
              "      <td>...</td>\n",
              "      <td>...</td>\n",
              "      <td>...</td>\n",
              "      <td>...</td>\n",
              "      <td>...</td>\n",
              "      <td>...</td>\n",
              "      <td>...</td>\n",
              "      <td>...</td>\n",
              "      <td>...</td>\n",
              "      <td>...</td>\n",
              "      <td>...</td>\n",
              "      <td>...</td>\n",
              "      <td>...</td>\n",
              "      <td>...</td>\n",
              "      <td>...</td>\n",
              "      <td>...</td>\n",
              "      <td>...</td>\n",
              "      <td>...</td>\n",
              "    </tr>\n",
              "    <tr>\n",
              "      <th>109</th>\n",
              "      <td>Y1-3</td>\n",
              "      <td>ED3-8</td>\n",
              "      <td>Y20-34</td>\n",
              "      <td>T</td>\n",
              "      <td>PC</td>\n",
              "      <td>SE</td>\n",
              "      <td>85.7 b</td>\n",
              "      <td>81.6</td>\n",
              "      <td>83.0</td>\n",
              "      <td>84.6</td>\n",
              "      <td>83.2</td>\n",
              "      <td>84.9</td>\n",
              "      <td>85.0 b</td>\n",
              "      <td>85.9</td>\n",
              "      <td>86.7</td>\n",
              "      <td>88.3</td>\n",
              "      <td>88.1 b</td>\n",
              "      <td>88.7</td>\n",
              "    </tr>\n",
              "    <tr>\n",
              "      <th>110</th>\n",
              "      <td>Y1-3</td>\n",
              "      <td>ED3-8</td>\n",
              "      <td>Y20-34</td>\n",
              "      <td>T</td>\n",
              "      <td>PC</td>\n",
              "      <td>SI</td>\n",
              "      <td>83.4</td>\n",
              "      <td>82.3</td>\n",
              "      <td>80.7</td>\n",
              "      <td>76.0</td>\n",
              "      <td>73.2</td>\n",
              "      <td>73.8</td>\n",
              "      <td>70.1 b</td>\n",
              "      <td>71.5</td>\n",
              "      <td>76.7</td>\n",
              "      <td>81.6</td>\n",
              "      <td>84.2</td>\n",
              "      <td>86.0</td>\n",
              "    </tr>\n",
              "    <tr>\n",
              "      <th>111</th>\n",
              "      <td>Y1-3</td>\n",
              "      <td>ED3-8</td>\n",
              "      <td>Y20-34</td>\n",
              "      <td>T</td>\n",
              "      <td>PC</td>\n",
              "      <td>SK</td>\n",
              "      <td>81.4</td>\n",
              "      <td>74.4</td>\n",
              "      <td>69.4</td>\n",
              "      <td>70.1 b</td>\n",
              "      <td>68.6</td>\n",
              "      <td>70.3</td>\n",
              "      <td>72.7 b</td>\n",
              "      <td>75.2</td>\n",
              "      <td>79.6</td>\n",
              "      <td>81.5</td>\n",
              "      <td>83.4</td>\n",
              "      <td>83.9</td>\n",
              "    </tr>\n",
              "    <tr>\n",
              "      <th>112</th>\n",
              "      <td>Y1-3</td>\n",
              "      <td>ED3-8</td>\n",
              "      <td>Y20-34</td>\n",
              "      <td>T</td>\n",
              "      <td>PC</td>\n",
              "      <td>TR</td>\n",
              "      <td>59.1</td>\n",
              "      <td>58.1</td>\n",
              "      <td>59.8</td>\n",
              "      <td>61.1</td>\n",
              "      <td>62.0</td>\n",
              "      <td>61.7</td>\n",
              "      <td>62.5 b</td>\n",
              "      <td>61.9</td>\n",
              "      <td>61.1</td>\n",
              "      <td>61.2</td>\n",
              "      <td>61.5</td>\n",
              "      <td>57.8</td>\n",
              "    </tr>\n",
              "    <tr>\n",
              "      <th>113</th>\n",
              "      <td>Y1-3</td>\n",
              "      <td>ED3-8</td>\n",
              "      <td>Y20-34</td>\n",
              "      <td>T</td>\n",
              "      <td>PC</td>\n",
              "      <td>UK</td>\n",
              "      <td>83.6 b</td>\n",
              "      <td>80.1</td>\n",
              "      <td>81.3 b</td>\n",
              "      <td>81.0 b</td>\n",
              "      <td>81.5</td>\n",
              "      <td>83.8</td>\n",
              "      <td>83.2 b</td>\n",
              "      <td>85.8</td>\n",
              "      <td>84.4</td>\n",
              "      <td>86.6</td>\n",
              "      <td>86.7</td>\n",
              "      <td>85.4</td>\n",
              "    </tr>\n",
              "  </tbody>\n",
              "</table>\n",
              "<p>114 rows × 18 columns</p>\n",
              "</div>"
            ],
            "text/plain": [
              "    duration isced11     age sex unit  ...  2015   2016    2017    2018   2019\n",
              "0       Y1-3   ED3-8  Y20-34   F   PC  ...  86.4   88.2    90.0    85.9   87.4\n",
              "1       Y1-3   ED3-8  Y20-34   F   PC  ...  80.9   82.2   82.5 b   84.2   84.0\n",
              "2       Y1-3   ED3-8  Y20-34   F   PC  ...  73.9   68.9    77.5    74.6   76.3\n",
              "3       Y1-3   ED3-8  Y20-34   F   PC  ...  85.3   84.6    89.9    88.6   87.9\n",
              "4       Y1-3   ED3-8  Y20-34   F   PC  ...  69.8   74.2    73.8    82.5   79.1\n",
              "..       ...     ...     ...  ..  ...  ...    ...    ...     ...     ...   ...\n",
              "109     Y1-3   ED3-8  Y20-34   T   PC  ...  85.9   86.7    88.3   88.1 b  88.7\n",
              "110     Y1-3   ED3-8  Y20-34   T   PC  ...  71.5   76.7    81.6    84.2   86.0\n",
              "111     Y1-3   ED3-8  Y20-34   T   PC  ...  75.2   79.6    81.5    83.4   83.9\n",
              "112     Y1-3   ED3-8  Y20-34   T   PC  ...  61.9   61.1    61.2    61.5   57.8\n",
              "113     Y1-3   ED3-8  Y20-34   T   PC  ...  85.8   84.4    86.6    86.7   85.4\n",
              "\n",
              "[114 rows x 18 columns]"
            ]
          },
          "metadata": {
            "tags": []
          },
          "execution_count": 61
        }
      ]
    },
    {
      "cell_type": "markdown",
      "metadata": {
        "id": "jK6lmNiWIggq",
        "colab_type": "text"
      },
      "source": [
        "# 15"
      ]
    },
    {
      "cell_type": "code",
      "metadata": {
        "id": "nKATGhvkvpHb",
        "colab_type": "code",
        "colab": {
          "base_uri": "https://localhost:8080/",
          "height": 336
        },
        "outputId": "d58c2ae2-41d6-43f2-93ad-872417ae1b1e"
      },
      "source": [
        "sec.dtypes"
      ],
      "execution_count": 62,
      "outputs": [
        {
          "output_type": "execute_result",
          "data": {
            "text/plain": [
              "duration     object\n",
              "isced11      object\n",
              "age          object\n",
              "sex          object\n",
              "unit         object\n",
              "geo\\time     object\n",
              "2008         object\n",
              "2009         object\n",
              "2010         object\n",
              "2011         object\n",
              "2012        float64\n",
              "2013         object\n",
              "2014         object\n",
              "2015         object\n",
              "2016         object\n",
              "2017         object\n",
              "2018         object\n",
              "2019        float64\n",
              "dtype: object"
            ]
          },
          "metadata": {
            "tags": []
          },
          "execution_count": 62
        }
      ]
    },
    {
      "cell_type": "code",
      "metadata": {
        "id": "x7rGUAXnWbzi",
        "colab_type": "code",
        "colab": {
          "base_uri": "https://localhost:8080/",
          "height": 336
        },
        "outputId": "cf52b606-ccb0-43f3-d301-c9fb05b5ab7b"
      },
      "source": [
        "sec['2008 '] = sec['2008 '].str.extract('(\\d+)').astype(float)\n",
        "sec['2009 '] = sec['2009 '].str.extract('(\\d+)').astype(float)\n",
        "sec['2010 '] = sec['2010 '].str.extract('(\\d+)').astype(float)\n",
        "sec['2011 '] = sec['2011 '].str.extract('(\\d+)').astype(float)\n",
        "sec['2013 '] = sec['2013 '].str.extract('(\\d+)').astype(float)\n",
        "sec['2014 '] = sec['2014 '].str.extract('(\\d+)').astype(float)\n",
        "sec['2015 '] = sec['2015 '].str.extract('(\\d+)').astype(float)\n",
        "sec['2016 '] = sec['2016 '].str.extract('(\\d+)').astype(float)\n",
        "sec['2017 '] = sec['2017 '].str.extract('(\\d+)').astype(float)\n",
        "sec['2018 '] = sec['2018 '].str.extract('(\\d+)').astype(float)\n",
        "sec.dtypes"
      ],
      "execution_count": 63,
      "outputs": [
        {
          "output_type": "execute_result",
          "data": {
            "text/plain": [
              "duration     object\n",
              "isced11      object\n",
              "age          object\n",
              "sex          object\n",
              "unit         object\n",
              "geo\\time     object\n",
              "2008        float64\n",
              "2009        float64\n",
              "2010        float64\n",
              "2011        float64\n",
              "2012        float64\n",
              "2013        float64\n",
              "2014        float64\n",
              "2015        float64\n",
              "2016        float64\n",
              "2017        float64\n",
              "2018        float64\n",
              "2019        float64\n",
              "dtype: object"
            ]
          },
          "metadata": {
            "tags": []
          },
          "execution_count": 63
        }
      ]
    },
    {
      "cell_type": "markdown",
      "metadata": {
        "id": "1bJSo9ZaImgb",
        "colab_type": "text"
      },
      "source": [
        "# 16"
      ]
    },
    {
      "cell_type": "code",
      "metadata": {
        "id": "xls_icvAdbdK",
        "colab_type": "code",
        "colab": {
          "base_uri": "https://localhost:8080/",
          "height": 101
        },
        "outputId": "1bcfc11d-e03d-441f-aa56-b01461fa5fef"
      },
      "source": [
        "sec.groupby('sex')['2016 '].mean()"
      ],
      "execution_count": 64,
      "outputs": [
        {
          "output_type": "execute_result",
          "data": {
            "text/plain": [
              "sex\n",
              "F    74.368421\n",
              "M    78.736842\n",
              "T    76.473684\n",
              "Name: 2016 , dtype: float64"
            ]
          },
          "metadata": {
            "tags": []
          },
          "execution_count": 64
        }
      ]
    },
    {
      "cell_type": "markdown",
      "metadata": {
        "id": "cg1r2Rb5Iof6",
        "colab_type": "text"
      },
      "source": [
        "# 17"
      ]
    },
    {
      "cell_type": "code",
      "metadata": {
        "id": "je56w_AnycGB",
        "colab_type": "code",
        "colab": {
          "base_uri": "https://localhost:8080/",
          "height": 35
        },
        "outputId": "335376de-4dff-4e83-a2e7-f68bee60cb72"
      },
      "source": [
        "sec[sec['sex']=='F'].mean().sort_values(ascending=False).index[0]"
      ],
      "execution_count": 65,
      "outputs": [
        {
          "output_type": "execute_result",
          "data": {
            "application/vnd.google.colaboratory.intrinsic+json": {
              "type": "string"
            },
            "text/plain": [
              "'2019'"
            ]
          },
          "metadata": {
            "tags": []
          },
          "execution_count": 65
        }
      ]
    },
    {
      "cell_type": "markdown",
      "metadata": {
        "id": "0nvGPl6AIrZZ",
        "colab_type": "text"
      },
      "source": [
        "# 18"
      ]
    },
    {
      "cell_type": "code",
      "metadata": {
        "id": "d0yY_eoTzVzP",
        "colab_type": "code",
        "colab": {}
      },
      "source": [
        "e=sec.columns.to_list()\n",
        "e[5]='geotime'\n",
        "sec.columns=e"
      ],
      "execution_count": 66,
      "outputs": []
    },
    {
      "cell_type": "code",
      "metadata": {
        "id": "MeD5okBh-z1h",
        "colab_type": "code",
        "colab": {
          "base_uri": "https://localhost:8080/",
          "height": 84
        },
        "outputId": "197581c1-6ec6-428e-87bf-524e89d2a280"
      },
      "source": [
        "sec.columns"
      ],
      "execution_count": 67,
      "outputs": [
        {
          "output_type": "execute_result",
          "data": {
            "text/plain": [
              "Index(['duration', 'isced11', 'age', 'sex', 'unit', 'geotime', '2008 ',\n",
              "       '2009 ', '2010 ', '2011 ', '2012 ', '2013 ', '2014 ', '2015 ', '2016 ',\n",
              "       '2017 ', '2018 ', '2019'],\n",
              "      dtype='object')"
            ]
          },
          "metadata": {
            "tags": []
          },
          "execution_count": 67
        }
      ]
    },
    {
      "cell_type": "markdown",
      "metadata": {
        "id": "8gZwb8cZJKq4",
        "colab_type": "text"
      },
      "source": [
        "# 19"
      ]
    },
    {
      "cell_type": "code",
      "metadata": {
        "id": "5lqqQ4r7AGBs",
        "colab_type": "code",
        "colab": {
          "base_uri": "https://localhost:8080/",
          "height": 34
        },
        "outputId": "5b3394b4-58bb-4436-86de-7c572c347902"
      },
      "source": [
        "(100-sec.loc[(sec['geotime']=='EU27_2020')&(sec['sex']=='M')]['2010 ']).sum()"
      ],
      "execution_count": 68,
      "outputs": [
        {
          "output_type": "execute_result",
          "data": {
            "text/plain": [
              "22.0"
            ]
          },
          "metadata": {
            "tags": []
          },
          "execution_count": 68
        }
      ]
    },
    {
      "cell_type": "markdown",
      "metadata": {
        "id": "97Mpq8LyJSFZ",
        "colab_type": "text"
      },
      "source": [
        "# 20"
      ]
    },
    {
      "cell_type": "code",
      "metadata": {
        "id": "uVyrnfYVEHiQ",
        "colab_type": "code",
        "colab": {
          "base_uri": "https://localhost:8080/",
          "height": 402
        },
        "outputId": "b6ef8754-b682-4c08-c10f-ff276c054774"
      },
      "source": [
        "s= sec.copy()\n",
        "s=s.drop(['duration','isced11','unit','sex','age'],axis=1)\n",
        "f=pd.melt(s,id_vars=['geotime'],var_name='Year',value_name='Unemployment Rate')\n",
        "f['Unemployment Rate']=100-f['Unemployment Rate']\n",
        "f"
      ],
      "execution_count": 69,
      "outputs": [
        {
          "output_type": "execute_result",
          "data": {
            "text/html": [
              "<div>\n",
              "<style scoped>\n",
              "    .dataframe tbody tr th:only-of-type {\n",
              "        vertical-align: middle;\n",
              "    }\n",
              "\n",
              "    .dataframe tbody tr th {\n",
              "        vertical-align: top;\n",
              "    }\n",
              "\n",
              "    .dataframe thead th {\n",
              "        text-align: right;\n",
              "    }\n",
              "</style>\n",
              "<table border=\"1\" class=\"dataframe\">\n",
              "  <thead>\n",
              "    <tr style=\"text-align: right;\">\n",
              "      <th></th>\n",
              "      <th>geotime</th>\n",
              "      <th>Year</th>\n",
              "      <th>Unemployment Rate</th>\n",
              "    </tr>\n",
              "  </thead>\n",
              "  <tbody>\n",
              "    <tr>\n",
              "      <th>0</th>\n",
              "      <td>AT</td>\n",
              "      <td>2008</td>\n",
              "      <td>11.0</td>\n",
              "    </tr>\n",
              "    <tr>\n",
              "      <th>1</th>\n",
              "      <td>BE</td>\n",
              "      <td>2008</td>\n",
              "      <td>18.0</td>\n",
              "    </tr>\n",
              "    <tr>\n",
              "      <th>2</th>\n",
              "      <td>BG</td>\n",
              "      <td>2008</td>\n",
              "      <td>24.0</td>\n",
              "    </tr>\n",
              "    <tr>\n",
              "      <th>3</th>\n",
              "      <td>CH</td>\n",
              "      <td>2008</td>\n",
              "      <td>12.0</td>\n",
              "    </tr>\n",
              "    <tr>\n",
              "      <th>4</th>\n",
              "      <td>CY</td>\n",
              "      <td>2008</td>\n",
              "      <td>14.0</td>\n",
              "    </tr>\n",
              "    <tr>\n",
              "      <th>...</th>\n",
              "      <td>...</td>\n",
              "      <td>...</td>\n",
              "      <td>...</td>\n",
              "    </tr>\n",
              "    <tr>\n",
              "      <th>1363</th>\n",
              "      <td>SE</td>\n",
              "      <td>2019</td>\n",
              "      <td>11.3</td>\n",
              "    </tr>\n",
              "    <tr>\n",
              "      <th>1364</th>\n",
              "      <td>SI</td>\n",
              "      <td>2019</td>\n",
              "      <td>14.0</td>\n",
              "    </tr>\n",
              "    <tr>\n",
              "      <th>1365</th>\n",
              "      <td>SK</td>\n",
              "      <td>2019</td>\n",
              "      <td>16.1</td>\n",
              "    </tr>\n",
              "    <tr>\n",
              "      <th>1366</th>\n",
              "      <td>TR</td>\n",
              "      <td>2019</td>\n",
              "      <td>42.2</td>\n",
              "    </tr>\n",
              "    <tr>\n",
              "      <th>1367</th>\n",
              "      <td>UK</td>\n",
              "      <td>2019</td>\n",
              "      <td>14.6</td>\n",
              "    </tr>\n",
              "  </tbody>\n",
              "</table>\n",
              "<p>1368 rows × 3 columns</p>\n",
              "</div>"
            ],
            "text/plain": [
              "     geotime   Year  Unemployment Rate\n",
              "0         AT  2008                11.0\n",
              "1         BE  2008                18.0\n",
              "2         BG  2008                24.0\n",
              "3         CH  2008                12.0\n",
              "4         CY  2008                14.0\n",
              "...      ...    ...                ...\n",
              "1363      SE   2019               11.3\n",
              "1364      SI   2019               14.0\n",
              "1365      SK   2019               16.1\n",
              "1366      TR   2019               42.2\n",
              "1367      UK   2019               14.6\n",
              "\n",
              "[1368 rows x 3 columns]"
            ]
          },
          "metadata": {
            "tags": []
          },
          "execution_count": 69
        }
      ]
    },
    {
      "cell_type": "code",
      "metadata": {
        "id": "4mX8F6KQT3P9",
        "colab_type": "code",
        "colab": {}
      },
      "source": [
        ""
      ],
      "execution_count": 69,
      "outputs": []
    }
  ]
}